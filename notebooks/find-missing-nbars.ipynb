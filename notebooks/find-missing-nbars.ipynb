{
 "cells": [
  {
   "cell_type": "code",
   "execution_count": 1,
   "metadata": {
    "collapsed": true
   },
   "outputs": [],
   "source": [
    "import pandas\n",
    "import geopandas\n",
    "%matplotlib inline"
   ]
  },
  {
   "cell_type": "code",
   "execution_count": 2,
   "metadata": {
    "collapsed": true
   },
   "outputs": [],
   "source": [
    "def subset_to_nominal_path_row(dataframe):\n",
    "    \"\"\"\n",
    "    Given a `pandas.DataFrame` created from a trawling of lpgs_out.xml files,\n",
    "    subset the list of scenes to GA's nominal path/row processing selection.\n",
    "    \n",
    "    :param dataframe:\n",
    "        A `pandas.DataFrame`.\n",
    "        \n",
    "    :return:\n",
    "        A `geopandas.GeoDataFrame`.\n",
    "    \"\"\"\n",
    "    nominal_fname = '/g/data/v10/eoancillarydata/ga-nominal-scenes/ADGC_v2_Area_of_Interest.shp'\n",
    "    gdf = geopandas.read_file(nominal_fname)\n",
    "    gdf.rename(columns={'PATH': 'path', 'ROW': 'row'}, inplace=True)\n",
    "    \n",
    "    df = pandas.merge(dataframe, gdf, on=['path', 'row'])\n",
    "    \n",
    "    return geopandas.GeoDataFrame(df)"
   ]
  },
  {
   "cell_type": "code",
   "execution_count": 3,
   "metadata": {
    "collapsed": true
   },
   "outputs": [],
   "source": [
    "fname = '/g/data/v10/projects/gaip-scripts/harvest-collection/collection-completeness.h5'"
   ]
  },
  {
   "cell_type": "markdown",
   "metadata": {},
   "source": [
    "Open the file see what datasets have been recored."
   ]
  },
  {
   "cell_type": "code",
   "execution_count": 4,
   "metadata": {
    "collapsed": false
   },
   "outputs": [
    {
     "data": {
      "text/plain": [
       "['/oth_and_children_products', '/sys_products']"
      ]
     },
     "execution_count": 4,
     "metadata": {},
     "output_type": "execute_result"
    }
   ],
   "source": [
    "store = pandas.HDFStore(fname, 'r')\n",
    "store.keys()"
   ]
  },
  {
   "cell_type": "markdown",
   "metadata": {},
   "source": [
    "Read the ORTHO records, and display what columns are available to query"
   ]
  },
  {
   "cell_type": "code",
   "execution_count": 5,
   "metadata": {
    "collapsed": false
   },
   "outputs": [
    {
     "data": {
      "text/plain": [
       "Index([u'L1_L1Gt', u'L1_success', u'L0_fail', u'L1_L1T', u'L0_success',\n",
       "       u'level1_name', u'pass_name', u'L1_fail', u'sensor', u'date', u'L1_L1G',\n",
       "       u'pass_id', u'path', u'row', u'nbar_name', u'nbart_name', u'pq_name',\n",
       "       u'nbar_exists', u'nbart_exists', u'pq_exists'],\n",
       "      dtype='object')"
      ]
     },
     "execution_count": 5,
     "metadata": {},
     "output_type": "execute_result"
    }
   ],
   "source": [
    "oth_df = store['/oth_and_children_products']\n",
    "oth_df.columns"
   ]
  },
  {
   "cell_type": "markdown",
   "metadata": {},
   "source": [
    "How many records/scenes to we have?"
   ]
  },
  {
   "cell_type": "code",
   "execution_count": 6,
   "metadata": {
    "collapsed": false
   },
   "outputs": [
    {
     "data": {
      "text/plain": [
       "'No. of Scenes: 307058'"
      ]
     },
     "execution_count": 6,
     "metadata": {},
     "output_type": "execute_result"
    }
   ],
   "source": [
    "\"No. of Scenes: {}\".format(oth_df.shape[0])"
   ]
  },
  {
   "cell_type": "markdown",
   "metadata": {},
   "source": [
    "Display the first five records."
   ]
  },
  {
   "cell_type": "code",
   "execution_count": 7,
   "metadata": {
    "collapsed": false
   },
   "outputs": [
    {
     "data": {
      "text/html": [
       "<div>\n",
       "<table border=\"1\" class=\"dataframe\">\n",
       "  <thead>\n",
       "    <tr style=\"text-align: right;\">\n",
       "      <th></th>\n",
       "      <th>L1_L1Gt</th>\n",
       "      <th>L1_success</th>\n",
       "      <th>L0_fail</th>\n",
       "      <th>L1_L1T</th>\n",
       "      <th>L0_success</th>\n",
       "      <th>level1_name</th>\n",
       "      <th>pass_name</th>\n",
       "      <th>L1_fail</th>\n",
       "      <th>sensor</th>\n",
       "      <th>date</th>\n",
       "      <th>L1_L1G</th>\n",
       "      <th>pass_id</th>\n",
       "      <th>path</th>\n",
       "      <th>row</th>\n",
       "      <th>nbar_name</th>\n",
       "      <th>nbart_name</th>\n",
       "      <th>pq_name</th>\n",
       "      <th>nbar_exists</th>\n",
       "      <th>nbart_exists</th>\n",
       "      <th>pq_exists</th>\n",
       "    </tr>\n",
       "  </thead>\n",
       "  <tbody>\n",
       "    <tr>\n",
       "      <th>0</th>\n",
       "      <td>0.0</td>\n",
       "      <td>23.0</td>\n",
       "      <td>0.0</td>\n",
       "      <td>15.0</td>\n",
       "      <td>25.0</td>\n",
       "      <td>/g/data/v10/reprocess/ls5/level1/1991/05/LS5_T...</td>\n",
       "      <td>LS5_TM_STD-RCC_P00_L5TT1991141010720ASA111_0_0...</td>\n",
       "      <td>1.0</td>\n",
       "      <td>LS5</td>\n",
       "      <td>1991-05-21</td>\n",
       "      <td>8.0</td>\n",
       "      <td>LS5-19910521</td>\n",
       "      <td>110.0</td>\n",
       "      <td>66.0</td>\n",
       "      <td>/g/data/rs0/scenes/nbar-scenes-tmp/ls5/1991/05...</td>\n",
       "      <td>/g/data/rs0/scenes/nbar-scenes-tmp/ls5/1991/05...</td>\n",
       "      <td>/g/data/rs0/scenes/pq-scenes-tmp/ls5/1991/05/o...</td>\n",
       "      <td>False</td>\n",
       "      <td>False</td>\n",
       "      <td>False</td>\n",
       "    </tr>\n",
       "    <tr>\n",
       "      <th>1</th>\n",
       "      <td>0.0</td>\n",
       "      <td>23.0</td>\n",
       "      <td>0.0</td>\n",
       "      <td>13.0</td>\n",
       "      <td>25.0</td>\n",
       "      <td>/g/data/v10/reprocess/ls5/level1/1991/05/LS5_T...</td>\n",
       "      <td>LS5_TM_STD-RCC_P00_L5TT1991151231220ASA111_0_0...</td>\n",
       "      <td>1.0</td>\n",
       "      <td>LS5</td>\n",
       "      <td>1991-05-31</td>\n",
       "      <td>10.0</td>\n",
       "      <td>LS5-19910531</td>\n",
       "      <td>91.0</td>\n",
       "      <td>79.0</td>\n",
       "      <td>/g/data/rs0/scenes/nbar-scenes-tmp/ls5/1991/05...</td>\n",
       "      <td>/g/data/rs0/scenes/nbar-scenes-tmp/ls5/1991/05...</td>\n",
       "      <td>/g/data/rs0/scenes/pq-scenes-tmp/ls5/1991/05/o...</td>\n",
       "      <td>True</td>\n",
       "      <td>True</td>\n",
       "      <td>True</td>\n",
       "    </tr>\n",
       "    <tr>\n",
       "      <th>2</th>\n",
       "      <td>0.0</td>\n",
       "      <td>23.0</td>\n",
       "      <td>0.0</td>\n",
       "      <td>15.0</td>\n",
       "      <td>24.0</td>\n",
       "      <td>/g/data/v10/reprocess/ls5/level1/1991/05/LS5_T...</td>\n",
       "      <td>LS5_TM_STD-RCC_P00_L5TT1991122234128ASA111_0_0...</td>\n",
       "      <td>1.0</td>\n",
       "      <td>LS5</td>\n",
       "      <td>1991-05-02</td>\n",
       "      <td>8.0</td>\n",
       "      <td>LS5-19910502</td>\n",
       "      <td>96.0</td>\n",
       "      <td>79.0</td>\n",
       "      <td>/g/data/rs0/scenes/nbar-scenes-tmp/ls5/1991/05...</td>\n",
       "      <td>/g/data/rs0/scenes/nbar-scenes-tmp/ls5/1991/05...</td>\n",
       "      <td>/g/data/rs0/scenes/pq-scenes-tmp/ls5/1991/05/o...</td>\n",
       "      <td>True</td>\n",
       "      <td>True</td>\n",
       "      <td>True</td>\n",
       "    </tr>\n",
       "    <tr>\n",
       "      <th>3</th>\n",
       "      <td>0.0</td>\n",
       "      <td>24.0</td>\n",
       "      <td>0.0</td>\n",
       "      <td>18.0</td>\n",
       "      <td>26.0</td>\n",
       "      <td>/g/data/v10/reprocess/ls5/level1/1991/05/LS5_T...</td>\n",
       "      <td>LS5_TM_STD-RCC_P00_L5TT1991125010659ASA111_0_0...</td>\n",
       "      <td>1.0</td>\n",
       "      <td>LS5</td>\n",
       "      <td>1991-05-05</td>\n",
       "      <td>6.0</td>\n",
       "      <td>LS5-19910505</td>\n",
       "      <td>110.0</td>\n",
       "      <td>79.0</td>\n",
       "      <td>/g/data/rs0/scenes/nbar-scenes-tmp/ls5/1991/05...</td>\n",
       "      <td>/g/data/rs0/scenes/nbar-scenes-tmp/ls5/1991/05...</td>\n",
       "      <td>/g/data/rs0/scenes/pq-scenes-tmp/ls5/1991/05/o...</td>\n",
       "      <td>True</td>\n",
       "      <td>True</td>\n",
       "      <td>True</td>\n",
       "    </tr>\n",
       "    <tr>\n",
       "      <th>4</th>\n",
       "      <td>0.0</td>\n",
       "      <td>22.0</td>\n",
       "      <td>0.0</td>\n",
       "      <td>18.0</td>\n",
       "      <td>24.0</td>\n",
       "      <td>/g/data/v10/reprocess/ls5/level1/1991/05/LS5_T...</td>\n",
       "      <td>LS5_TM_STD-RCC_P00_L5TT1991128000039ASA111_0_0...</td>\n",
       "      <td>1.0</td>\n",
       "      <td>LS5</td>\n",
       "      <td>1991-05-08</td>\n",
       "      <td>4.0</td>\n",
       "      <td>LS5-19910508</td>\n",
       "      <td>99.0</td>\n",
       "      <td>84.0</td>\n",
       "      <td>/g/data/rs0/scenes/nbar-scenes-tmp/ls5/1991/05...</td>\n",
       "      <td>/g/data/rs0/scenes/nbar-scenes-tmp/ls5/1991/05...</td>\n",
       "      <td>/g/data/rs0/scenes/pq-scenes-tmp/ls5/1991/05/o...</td>\n",
       "      <td>True</td>\n",
       "      <td>True</td>\n",
       "      <td>True</td>\n",
       "    </tr>\n",
       "  </tbody>\n",
       "</table>\n",
       "</div>"
      ],
      "text/plain": [
       "   L1_L1Gt  L1_success  L0_fail  L1_L1T  L0_success  \\\n",
       "0      0.0        23.0      0.0    15.0        25.0   \n",
       "1      0.0        23.0      0.0    13.0        25.0   \n",
       "2      0.0        23.0      0.0    15.0        24.0   \n",
       "3      0.0        24.0      0.0    18.0        26.0   \n",
       "4      0.0        22.0      0.0    18.0        24.0   \n",
       "\n",
       "                                         level1_name  \\\n",
       "0  /g/data/v10/reprocess/ls5/level1/1991/05/LS5_T...   \n",
       "1  /g/data/v10/reprocess/ls5/level1/1991/05/LS5_T...   \n",
       "2  /g/data/v10/reprocess/ls5/level1/1991/05/LS5_T...   \n",
       "3  /g/data/v10/reprocess/ls5/level1/1991/05/LS5_T...   \n",
       "4  /g/data/v10/reprocess/ls5/level1/1991/05/LS5_T...   \n",
       "\n",
       "                                           pass_name  L1_fail sensor  \\\n",
       "0  LS5_TM_STD-RCC_P00_L5TT1991141010720ASA111_0_0...      1.0    LS5   \n",
       "1  LS5_TM_STD-RCC_P00_L5TT1991151231220ASA111_0_0...      1.0    LS5   \n",
       "2  LS5_TM_STD-RCC_P00_L5TT1991122234128ASA111_0_0...      1.0    LS5   \n",
       "3  LS5_TM_STD-RCC_P00_L5TT1991125010659ASA111_0_0...      1.0    LS5   \n",
       "4  LS5_TM_STD-RCC_P00_L5TT1991128000039ASA111_0_0...      1.0    LS5   \n",
       "\n",
       "        date  L1_L1G       pass_id   path   row  \\\n",
       "0 1991-05-21     8.0  LS5-19910521  110.0  66.0   \n",
       "1 1991-05-31    10.0  LS5-19910531   91.0  79.0   \n",
       "2 1991-05-02     8.0  LS5-19910502   96.0  79.0   \n",
       "3 1991-05-05     6.0  LS5-19910505  110.0  79.0   \n",
       "4 1991-05-08     4.0  LS5-19910508   99.0  84.0   \n",
       "\n",
       "                                           nbar_name  \\\n",
       "0  /g/data/rs0/scenes/nbar-scenes-tmp/ls5/1991/05...   \n",
       "1  /g/data/rs0/scenes/nbar-scenes-tmp/ls5/1991/05...   \n",
       "2  /g/data/rs0/scenes/nbar-scenes-tmp/ls5/1991/05...   \n",
       "3  /g/data/rs0/scenes/nbar-scenes-tmp/ls5/1991/05...   \n",
       "4  /g/data/rs0/scenes/nbar-scenes-tmp/ls5/1991/05...   \n",
       "\n",
       "                                          nbart_name  \\\n",
       "0  /g/data/rs0/scenes/nbar-scenes-tmp/ls5/1991/05...   \n",
       "1  /g/data/rs0/scenes/nbar-scenes-tmp/ls5/1991/05...   \n",
       "2  /g/data/rs0/scenes/nbar-scenes-tmp/ls5/1991/05...   \n",
       "3  /g/data/rs0/scenes/nbar-scenes-tmp/ls5/1991/05...   \n",
       "4  /g/data/rs0/scenes/nbar-scenes-tmp/ls5/1991/05...   \n",
       "\n",
       "                                             pq_name nbar_exists nbart_exists  \\\n",
       "0  /g/data/rs0/scenes/pq-scenes-tmp/ls5/1991/05/o...       False        False   \n",
       "1  /g/data/rs0/scenes/pq-scenes-tmp/ls5/1991/05/o...        True         True   \n",
       "2  /g/data/rs0/scenes/pq-scenes-tmp/ls5/1991/05/o...        True         True   \n",
       "3  /g/data/rs0/scenes/pq-scenes-tmp/ls5/1991/05/o...        True         True   \n",
       "4  /g/data/rs0/scenes/pq-scenes-tmp/ls5/1991/05/o...        True         True   \n",
       "\n",
       "  pq_exists  \n",
       "0     False  \n",
       "1      True  \n",
       "2      True  \n",
       "3      True  \n",
       "4      True  "
      ]
     },
     "execution_count": 7,
     "metadata": {},
     "output_type": "execute_result"
    }
   ],
   "source": [
    "oth_df.head(5)"
   ]
  },
  {
   "cell_type": "markdown",
   "metadata": {},
   "source": [
    "Find what Level1's have no NBAR dataset."
   ]
  },
  {
   "cell_type": "code",
   "execution_count": 8,
   "metadata": {
    "collapsed": true
   },
   "outputs": [],
   "source": [
    "missing_nbar = oth_df[~oth_df.nbar_exists]"
   ]
  },
  {
   "cell_type": "code",
   "execution_count": 9,
   "metadata": {
    "collapsed": false
   },
   "outputs": [
    {
     "data": {
      "text/plain": [
       "'No. of Missing NBAR Scenes: 40111'"
      ]
     },
     "execution_count": 9,
     "metadata": {},
     "output_type": "execute_result"
    }
   ],
   "source": [
    "\"No. of Missing NBAR Scenes: {}\".format(missing_nbar.shape[0])"
   ]
  },
  {
   "cell_type": "markdown",
   "metadata": {},
   "source": [
    "This list of scens also includes those that are outside GA's nominal path/row processing schema.\n",
    "We'll subset the list to only those that match the nominal path/row schema."
   ]
  },
  {
   "cell_type": "code",
   "execution_count": 10,
   "metadata": {
    "collapsed": true
   },
   "outputs": [],
   "source": [
    "nominal_missing = subset_to_nominal_path_row(missing_nbar)"
   ]
  },
  {
   "cell_type": "code",
   "execution_count": 11,
   "metadata": {
    "collapsed": false
   },
   "outputs": [
    {
     "data": {
      "text/plain": [
       "'No. of Missing NBAR Scenes within Nominal processing: 10097'"
      ]
     },
     "execution_count": 11,
     "metadata": {},
     "output_type": "execute_result"
    }
   ],
   "source": [
    "\"No. of Missing NBAR Scenes within Nominal processing: {}\".format(nominal_missing.shape[0])"
   ]
  },
  {
   "cell_type": "markdown",
   "metadata": {},
   "source": [
    "Basic map representing the scene locations of Level1's that have no NBAR."
   ]
  },
  {
   "cell_type": "code",
   "execution_count": 12,
   "metadata": {
    "collapsed": false
   },
   "outputs": [
    {
     "data": {
      "text/plain": [
       "<matplotlib.axes._subplots.AxesSubplot at 0x7f9d7033f090>"
      ]
     },
     "execution_count": 12,
     "metadata": {},
     "output_type": "execute_result"
    },
    {
     "data": {
      "image/png": "[encoded data removed]",
      "text/plain": [
       "<matplotlib.figure.Figure at 0x7f9dacc22ed0>"
      ]
     },
     "metadata": {},
     "output_type": "display_data"
    }
   ],
   "source": [
    "nominal_missing.plot()"
   ]
  },
  {
   "cell_type": "markdown",
   "metadata": {},
   "source": [
    "Display the first 10 records, for the `date`, `path`, `row` and `sensor` columns."
   ]
  },
  {
   "cell_type": "code",
   "execution_count": 13,
   "metadata": {
    "collapsed": false
   },
   "outputs": [
    {
     "data": {
      "text/html": [
       "<div>\n",
       "<table border=\"1\" class=\"dataframe\">\n",
       "  <thead>\n",
       "    <tr style=\"text-align: right;\">\n",
       "      <th></th>\n",
       "      <th>date</th>\n",
       "      <th>path</th>\n",
       "      <th>row</th>\n",
       "      <th>sensor</th>\n",
       "    </tr>\n",
       "  </thead>\n",
       "  <tbody>\n",
       "    <tr>\n",
       "      <th>0</th>\n",
       "      <td>2006-11-30</td>\n",
       "      <td>93.0</td>\n",
       "      <td>87.0</td>\n",
       "      <td>LS5</td>\n",
       "    </tr>\n",
       "    <tr>\n",
       "      <th>1</th>\n",
       "      <td>2006-11-22</td>\n",
       "      <td>93.0</td>\n",
       "      <td>87.0</td>\n",
       "      <td>LS7</td>\n",
       "    </tr>\n",
       "    <tr>\n",
       "      <th>2</th>\n",
       "      <td>2006-10-21</td>\n",
       "      <td>93.0</td>\n",
       "      <td>87.0</td>\n",
       "      <td>LS7</td>\n",
       "    </tr>\n",
       "    <tr>\n",
       "      <th>3</th>\n",
       "      <td>2006-10-05</td>\n",
       "      <td>93.0</td>\n",
       "      <td>87.0</td>\n",
       "      <td>LS7</td>\n",
       "    </tr>\n",
       "    <tr>\n",
       "      <th>4</th>\n",
       "      <td>2006-09-03</td>\n",
       "      <td>93.0</td>\n",
       "      <td>87.0</td>\n",
       "      <td>LS7</td>\n",
       "    </tr>\n",
       "    <tr>\n",
       "      <th>5</th>\n",
       "      <td>2006-02-23</td>\n",
       "      <td>93.0</td>\n",
       "      <td>87.0</td>\n",
       "      <td>LS7</td>\n",
       "    </tr>\n",
       "    <tr>\n",
       "      <th>6</th>\n",
       "      <td>2006-08-18</td>\n",
       "      <td>93.0</td>\n",
       "      <td>87.0</td>\n",
       "      <td>LS7</td>\n",
       "    </tr>\n",
       "    <tr>\n",
       "      <th>7</th>\n",
       "      <td>2006-03-27</td>\n",
       "      <td>93.0</td>\n",
       "      <td>87.0</td>\n",
       "      <td>LS7</td>\n",
       "    </tr>\n",
       "    <tr>\n",
       "      <th>8</th>\n",
       "      <td>2010-09-30</td>\n",
       "      <td>93.0</td>\n",
       "      <td>87.0</td>\n",
       "      <td>LS7</td>\n",
       "    </tr>\n",
       "    <tr>\n",
       "      <th>9</th>\n",
       "      <td>2008-02-29</td>\n",
       "      <td>93.0</td>\n",
       "      <td>87.0</td>\n",
       "      <td>LS7</td>\n",
       "    </tr>\n",
       "  </tbody>\n",
       "</table>\n",
       "</div>"
      ],
      "text/plain": [
       "        date  path   row sensor\n",
       "0 2006-11-30  93.0  87.0    LS5\n",
       "1 2006-11-22  93.0  87.0    LS7\n",
       "2 2006-10-21  93.0  87.0    LS7\n",
       "3 2006-10-05  93.0  87.0    LS7\n",
       "4 2006-09-03  93.0  87.0    LS7\n",
       "5 2006-02-23  93.0  87.0    LS7\n",
       "6 2006-08-18  93.0  87.0    LS7\n",
       "7 2006-03-27  93.0  87.0    LS7\n",
       "8 2010-09-30  93.0  87.0    LS7\n",
       "9 2008-02-29  93.0  87.0    LS7"
      ]
     },
     "execution_count": 13,
     "metadata": {},
     "output_type": "execute_result"
    }
   ],
   "source": [
    "nominal_missing[['date', 'path', 'row', 'sensor']].head(10)"
   ]
  },
  {
   "cell_type": "markdown",
   "metadata": {},
   "source": [
    "Output a list of Level1 scenes that need to be processed through to NBAR.\n",
    "The columns names and the index will not be written.\n",
    "Essentially this list can be sent direct to the NBAR processing pipeline."
   ]
  },
  {
   "cell_type": "code",
   "execution_count": 14,
   "metadata": {
    "collapsed": false
   },
   "outputs": [],
   "source": [
    "out_fname = '/g/data/v10/projects/gaip-scripts/harvest-collection/level1-to-be-sent-to-nbar.csv'\n",
    "nominal_missing.to_csv(out_fname, columns=['level1_name'], header=False, index=False)"
   ]
  },
  {
   "cell_type": "markdown",
   "metadata": {},
   "source": [
    "Close the file."
   ]
  },
  {
   "cell_type": "code",
   "execution_count": 15,
   "metadata": {
    "collapsed": true
   },
   "outputs": [],
   "source": [
    "store.close()"
   ]
  },
  {
   "cell_type": "code",
   "execution_count": null,
   "metadata": {
    "collapsed": true
   },
   "outputs": [],
   "source": []
  }
 ],
 "metadata": {
  "kernelspec": {
   "display_name": "Python 2",
   "language": "python",
   "name": "python2"
  },
  "language_info": {
   "codemirror_mode": {
    "name": "ipython",
    "version": 2
   },
   "file_extension": ".py",
   "mimetype": "text/x-python",
   "name": "python",
   "nbconvert_exporter": "python",
   "pygments_lexer": "ipython2",
   "version": "2.7.12"
  }
 },
 "nbformat": 4,
 "nbformat_minor": 1
}
